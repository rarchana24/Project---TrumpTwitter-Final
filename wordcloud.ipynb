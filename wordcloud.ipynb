{
 "cells": [
  {
   "cell_type": "code",
   "execution_count": 2,
   "metadata": {},
   "outputs": [
    {
     "name": "stdout",
     "output_type": "stream",
     "text": [
      "Collecting wordcloud\n",
      "  Downloading https://files.pythonhosted.org/packages/65/41/abefdda082c7b211248e412fb2c7a8dc69d474f18ed61a5a784f20f73bb7/wordcloud-1.7.0-cp37-cp37m-win_amd64.whl (157kB)\n",
      "Requirement already satisfied: matplotlib in c:\\users\\19803\\anaconda3\\lib\\site-packages (from wordcloud) (3.1.1)\n",
      "Requirement already satisfied: pillow in c:\\users\\19803\\anaconda3\\lib\\site-packages (from wordcloud) (6.2.0)\n",
      "Requirement already satisfied: numpy>=1.6.1 in c:\\users\\19803\\anaconda3\\lib\\site-packages (from wordcloud) (1.16.5)\n",
      "Requirement already satisfied: cycler>=0.10 in c:\\users\\19803\\anaconda3\\lib\\site-packages (from matplotlib->wordcloud) (0.10.0)\n",
      "Requirement already satisfied: kiwisolver>=1.0.1 in c:\\users\\19803\\anaconda3\\lib\\site-packages (from matplotlib->wordcloud) (1.1.0)\n",
      "Requirement already satisfied: pyparsing!=2.0.4,!=2.1.2,!=2.1.6,>=2.0.1 in c:\\users\\19803\\anaconda3\\lib\\site-packages (from matplotlib->wordcloud) (2.4.2)\n",
      "Requirement already satisfied: python-dateutil>=2.1 in c:\\users\\19803\\anaconda3\\lib\\site-packages (from matplotlib->wordcloud) (2.8.0)\n",
      "Requirement already satisfied: six in c:\\users\\19803\\anaconda3\\lib\\site-packages (from cycler>=0.10->matplotlib->wordcloud) (1.12.0)\n",
      "Requirement already satisfied: setuptools in c:\\users\\19803\\anaconda3\\lib\\site-packages (from kiwisolver>=1.0.1->matplotlib->wordcloud) (41.4.0)\n",
      "Installing collected packages: wordcloud\n",
      "Successfully installed wordcloud-1.7.0\n",
      "Note: you may need to restart the kernel to use updated packages.\n"
     ]
    }
   ],
   "source": [
    "pip install wordcloud"
   ]
  },
  {
   "cell_type": "code",
   "execution_count": 2,
   "metadata": {},
   "outputs": [],
   "source": [
    "import numpy as np\n",
    "from PIL import Image\n",
    "import matplotlib.pyplot as plt\n",
    "from wordcloud import WordCloud, STOPWORDS"
   ]
  },
  {
   "cell_type": "code",
   "execution_count": 3,
   "metadata": {},
   "outputs": [
    {
     "data": {
      "text/plain": [
       "'sad\\nearnings \\nelection \\nfutures \\ninvestor \\nlow \\nmarket \\nnasdaq \\nnorth korea\\nnorthkorea\\nstock\\nmarket \\ncorrection \\ntrading \\nunemployment\\nwall street\\nchina\\nban\\nbull \\nkim \\nprice \\nwallstreet\\nhigh \\ncorporate \\nglobal warming \\ntariff \\ntax cut \\njobs \\neconomy \\ntrade \\nmissile \\nnuclear\\nwages\\nmaga\\nrates \\ninflation \\ngrowth \\ndollar \\nFed \\nPowell \\nXi \\ntariffs \\nimpeach \\nintent \\ncontinue \\nreceive \\nhundred \\nbillion \\ntake \\nunfair \\npractice \\ncurrency \\nmanipulation \\nstop \\nmany \\nmedia\\ngreat\\ntoday\\nfake\\nbig\\nrussia\\ndemocrats\\ncountry\\ntime\\nfailing\\nobamacare\\namerica\\nfoxandfriends\\nhouse\\nnytimes\\nmake\\nunited\\nhealthcare\\nforward\\nwhite\\nwin \\nsecurity\\ntax\\njudge\\nminister\\ndeal\\ndecision\\nwall \\nobama\\nnational\\nsupport\\nborder\\ntonight\\nrepublicans\\nwashington\\nadministration\\noptimism\\ngovernment\\nexecutive\\ntalk\\nvote\\nillegal\\nsanctions\\nbuy america\\nhire america\\nbuild\\nfactories\\nlabor\\n'"
      ]
     },
     "execution_count": 3,
     "metadata": {},
     "output_type": "execute_result"
    }
   ],
   "source": [
    "keywords = open('./trump_keywords.txt','r').read()\n",
    "keywords"
   ]
  },
  {
   "cell_type": "code",
   "execution_count": 12,
   "metadata": {},
   "outputs": [],
   "source": [
    "#trump_mask = np.array(Image.open('https://www.cbc.ca/interactives/content/lead_images/_lead-large/hero-altamerica.jpg'))\n",
    "#trump_mask\n",
    "import requests\n",
    "from io import BytesIO\n",
    "url = 'https://www.cbc.ca/interactives/content/lead_images/_lead-large/hero-altamerica.jpg'\n",
    "response = requests.get(url)\n",
    "img = Image.open(BytesIO(response.content))\n",
    "image = np.asanyarray(img)"
   ]
  },
  {
   "cell_type": "code",
   "execution_count": 13,
   "metadata": {},
   "outputs": [],
   "source": [
    "keywords_list =['sad','earnings ','election ','futures ','investor ','low ','market ','nasdaq ','north korea','northkorea','stock','market ','correction ','trading ','unemployment','wall street','china','ban','bull ','kim ','price ','wallstreet','high ','corporate ','global warming ','tariff ','tax cut ','jobs ','economy ','trade ','missile ','nuclear','wages','maga','rates ','inflation ','growth ','dollar ','Fed ','Powell ','Xi ','tariffs ','impeach ','intent ','continue ','receive ','hundred ','billion ','take ','unfair ','practice ','currency ','manipulation ','stop ','many ','media','great','today','fake','big','russia','democrats','country','time','failing','obamacare','america','foxandfriends','house','nytimes','make','united','healthcare','forward','white','win ','security','tax','judge','minister','deal','decision','wall ','obama','national','support','border','tonight','republicans','washington','administration','optimism','government','executive','talk','vote','illegal','sanctions','buy america','hire america','build','factories','labor']"
   ]
  },
  {
   "cell_type": "code",
   "execution_count": 16,
   "metadata": {},
   "outputs": [
    {
     "data": {
      "text/plain": [
       "<wordcloud.wordcloud.WordCloud at 0x28da71ff808>"
      ]
     },
     "execution_count": 16,
     "metadata": {},
     "output_type": "execute_result"
    }
   ],
   "source": [
    "#for word in keywords_list:\n",
    "#    STOPWORDS.add(word)\n",
    "\n",
    "wc = WordCloud(background_color=\"white\", max_words=1500, mask=image)#, stopwords=STOPWORDS)\n",
    "wc.generate(keywords)\n",
    "wc.to_file('trumpimageonflag.png')"
   ]
  },
  {
   "cell_type": "code",
   "execution_count": 32,
   "metadata": {},
   "outputs": [],
   "source": [
    "from PIL import Image\n",
    "import numpy as np\n",
    "img1 = Image.open(\"trumpimageonflag.png\").convert(\"RGBA\")\n",
    "img1.putalpha(128)\n",
    "url = 'https://www.cbc.ca/interactives/content/lead_images/_lead-large/hero-altamerica.jpg'\n",
    "response = requests.get(url)\n",
    "img = Image.open(BytesIO(response.content)).convert(\"RGBA\")\n",
    "#image = np.asanyarray(img)\n",
    "#background = Image.open(\"background_1354_2030.png\")\n",
    "img.paste(img1, (0, 0, 1180, 664), img1)\n",
    "img.save('how_to_superimpose_two_images_01.png',\"PNG\")"
   ]
  }
 ],
 "metadata": {
  "kernelspec": {
   "display_name": "Python 3",
   "language": "python",
   "name": "python3"
  },
  "language_info": {
   "codemirror_mode": {
    "name": "ipython",
    "version": 3
   },
   "file_extension": ".py",
   "mimetype": "text/x-python",
   "name": "python",
   "nbconvert_exporter": "python",
   "pygments_lexer": "ipython3",
   "version": "3.7.4"
  }
 },
 "nbformat": 4,
 "nbformat_minor": 2
}
